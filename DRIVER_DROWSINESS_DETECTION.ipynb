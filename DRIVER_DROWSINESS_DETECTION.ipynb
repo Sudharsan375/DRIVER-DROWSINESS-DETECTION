{
  "cells": [
    {
      "cell_type": "code",
      "source": [
        "from google.colab import drive\n",
        "drive.mount('/content/drive')"
      ],
      "metadata": {
        "id": "Kq4crMwxqwEP",
        "colab": {
          "base_uri": "https://localhost:8080/"
        },
        "outputId": "70d37a5c-27db-475c-8a74-1d8481c43516"
      },
      "execution_count": null,
      "outputs": [
        {
          "output_type": "stream",
          "name": "stdout",
          "text": [
            "Mounted at /content/drive\n"
          ]
        }
      ]
    },
    {
      "cell_type": "code",
      "source": [
        "# Import OpenCV\n",
        "import cv2\n",
        "from google.colab.patches import cv2_imshow\n",
        "# Load the Haar Cascade Classifier for face detection\n",
        "face_cascade = cv2.CascadeClassifier(cv2.data.haarcascades + 'haarcascade_frontalface_default.xml')\n",
        "# Upload an image to Google Colab or provide a URL\n",
        "image_path = '/content/drive/MyDrive/MyDrive/sample input.jpg'\n",
        "# Load the image\n",
        "image = cv2.imread(image_path)"
      ],
      "metadata": {
        "id": "Bcz4D7tdq9_G"
      },
      "execution_count": null,
      "outputs": []
    },
    {
      "cell_type": "code",
      "execution_count": null,
      "metadata": {
        "id": "e2M_abuNpiDt"
      },
      "outputs": [],
      "source": [
        "# Convert the image to grayscale (required for face detection)\n",
        "gray = cv2.cvtColor(image, cv2.COLOR_BGR2GRAY)\n",
        "\n",
        "# Detect faces in the image\n",
        "faces = face_cascade.detectMultiScale(gray, scaleFactor=1.1, minNeighbors=5)\n",
        "\n",
        "# Draw rectangles around detected faces\n",
        "for (x, y, w, h) in faces:\n",
        "    cv2.rectangle(image, (x, y), (x + w, y + h), (0, 255, 0), 3)\n",
        "\n",
        "# Display the image with detected faces\n",
        "cv2_imshow(image)\n",
        "\n",
        "# Save the result to a file (optional)\n",
        "# Replace 'output_image.jpg' with your desired output file name\n",
        "output_path = 'output_image.jpg'\n",
        "cv2.imwrite(output_path, image)\n",
        "\n",
        "# Release resources\n",
        "cv2.waitKey(0)\n",
        "cv2.destroyAllWindows()\n"
      ]
    },
    {
      "cell_type": "code",
      "execution_count": null,
      "metadata": {
        "colab": {
          "base_uri": "https://localhost:8080/"
        },
        "id": "ueXV9l0ls1Zv",
        "outputId": "8a928f06-324f-4435-d652-8f1729580e04"
      },
      "outputs": [
        {
          "output_type": "stream",
          "name": "stdout",
          "text": [
            "Requirement already satisfied: dlib in /usr/local/lib/python3.10/dist-packages (19.24.2)\n",
            "Requirement already satisfied: opencv-python in /usr/local/lib/python3.10/dist-packages (4.8.0.76)\n",
            "Requirement already satisfied: numpy>=1.21.2 in /usr/local/lib/python3.10/dist-packages (from opencv-python) (1.23.5)\n",
            "Drive already mounted at /content/drive; to attempt to forcibly remount, call drive.mount(\"/content/drive\", force_remount=True).\n"
          ]
        }
      ],
      "source": [
        "# Install necessary libraries\n",
        "!pip install dlib\n",
        "!pip install opencv-python\n",
        "\n",
        "# Import libraries\n",
        "import dlib\n",
        "import cv2\n",
        "from google.colab.patches import cv2_imshow\n",
        "from google.colab import drive\n",
        "drive.mount('/content/drive')"
      ]
    },
    {
      "cell_type": "code",
      "source": [
        "# Load the face detector and shape predictor\n",
        "face_detector = dlib.get_frontal_face_detector()\n",
        "shape_predictor = dlib.shape_predictor('/content/drive/MyDrive/MyDrive/shape_predictor_68')\n",
        "\n",
        "# Load the image\n",
        "image_path = '/content/drive/MyDrive/MyDrive/sample input.jpg'\n",
        "image = cv2.imread(image_path)\n",
        "gray = cv2.cvtColor(image, cv2.COLOR_BGR2GRAY)\n",
        "\n",
        "# Detect faces in the image\n",
        "faces = face_detector(gray)\n",
        "\n",
        "# Define the color for the dots (e.g., red)\n",
        "dot_color = (0, 255, 0)  # Red color in BGR format\n",
        "\n",
        "# Loop through the detected faces and find facial landmarks\n",
        "for face in faces:\n",
        "    landmarks = shape_predictor(gray, face)\n",
        "\n",
        "    # Draw circles at the locations of the facial landmarks with the chosen color\n",
        "    for i in range(68):\n",
        "        x, y = landmarks.part(i).x, landmarks.part(i).y\n",
        "        cv2.circle(image, (x, y), 2, dot_color, -1)  # Use dot_color for the circles\n",
        "\n",
        "# Display the image with facial landmarks\n",
        "cv2_imshow(image)\n",
        "\n",
        "# Save the result to a file (optional)\n",
        "# Replace 'output_image.jpg' with your desired output file name\n",
        "#output_path = '/content/drive/MyDrive/MyDrive/output_image.jpg'\n",
        "#cv2.imwrite(output_path, image)\n",
        "\n",
        "# Release resources\n",
        "cv2.waitKey(0)\n",
        "cv2.destroyAllWindows()"
      ],
      "metadata": {
        "id": "fmbl8fJSvXEY"
      },
      "execution_count": null,
      "outputs": []
    },
    {
      "cell_type": "code",
      "execution_count": null,
      "metadata": {
        "colab": {
          "base_uri": "https://localhost:8080/"
        },
        "id": "2-NXre5JMVww",
        "outputId": "12cb62e6-9086-4d4b-e78e-18cffec85b4e"
      },
      "outputs": [
        {
          "output_type": "stream",
          "name": "stdout",
          "text": [
            "Requirement already satisfied: dlib in /usr/local/lib/python3.10/dist-packages (19.24.2)\n",
            "Requirement already satisfied: imutils in /usr/local/lib/python3.10/dist-packages (0.5.4)\n"
          ]
        }
      ],
      "source": [
        "!pip install dlib\n",
        "!pip install imutils"
      ]
    },
    {
      "cell_type": "code",
      "execution_count": null,
      "metadata": {
        "id": "OGoyQrsRMcWV"
      },
      "outputs": [],
      "source": [
        "from scipy.spatial import distance as dist\n",
        "from imutils import face_utils\n",
        "import numpy as np\n",
        "import imutils\n",
        "import dlib\n",
        "import cv2"
      ]
    },
    {
      "cell_type": "code",
      "execution_count": null,
      "metadata": {
        "id": "4Obm2rRiMktV"
      },
      "outputs": [],
      "source": [
        "def eye_aspect_ratio(eye):\n",
        "\t# compute the euclidean distances between the vertical\n",
        "\tA = dist.euclidean(eye[1], eye[5])\n",
        "\tB = dist.euclidean(eye[2], eye[4])\n",
        "\n",
        "\t# compute the euclidean distance between the horizontal\n",
        "\tC = dist.euclidean(eye[0], eye[3])\n",
        "\t# compute the eye aspect ratio\n",
        "\tear = (A + B) / (2.0 * C)\n",
        "\treturn ear\n",
        "\n",
        "#calculating mouth aspect ratio\n",
        "def mouth_aspect_ratio(mou):\n",
        "\t# compute the euclidean distances between the horizontal\n",
        "\tX   = dist.euclidean(mou[0], mou[6])\n",
        "\t# compute the euclidean distances between the vertical\n",
        "\tY1  = dist.euclidean(mou[2], mou[10])\n",
        "\tY2  = dist.euclidean(mou[4], mou[8])\n",
        "\t# taking average\n",
        "\tY   = (Y1+Y2)/2.0\n",
        "\t# compute mouth aspect ratio\n",
        "\tmar = Y/X\n",
        "\treturn mar"
      ]
    },
    {
      "cell_type": "code",
      "execution_count": null,
      "metadata": {
        "id": "jy29JJ-pMyN5"
      },
      "outputs": [],
      "source": [
        "camera = cv2.VideoCapture('/content/drive/MyDrive/MyDrive/sample input.mp4')\n",
        "predictor_path = '/content/drive/MyDrive/MyDrive/shape_predictor_68'\n",
        "\n",
        "# define constants for aspect ratios\n",
        "EYE_AR_THRESH = 0.25\n",
        "EYE_AR_CONSEC_FRAMES = 0\n",
        "MOU_AR_THRESH = 0.75\n",
        "\n",
        "COUNTER = 0\n",
        "yawnStatus = False\n",
        "yawns = 0\n",
        "# initialize dlib's face detector (HOG-based) and then create\n",
        "# the facial landmark predictor\n",
        "detector = dlib.get_frontal_face_detector()\n",
        "predictor = dlib.shape_predictor(predictor_path)\n",
        "\n",
        "# grab the indexes of the facial landmarks for the left and right eye\n",
        "# also for the mouth\n",
        "(lStart, lEnd) = face_utils.FACIAL_LANDMARKS_IDXS[\"left_eye\"]\n",
        "(rStart, rEnd) = face_utils.FACIAL_LANDMARKS_IDXS[\"right_eye\"]\n",
        "(mStart, mEnd) = face_utils.FACIAL_LANDMARKS_IDXS[\"mouth\"]"
      ]
    },
    {
      "cell_type": "code",
      "execution_count": null,
      "metadata": {
        "id": "u6kJfzn5ikKU"
      },
      "outputs": [],
      "source": [
        "from google.colab.patches import cv2_imshow"
      ]
    },
    {
      "cell_type": "code",
      "execution_count": null,
      "metadata": {
        "id": "b-H6WDgZOXRD"
      },
      "outputs": [],
      "source": [
        "while True:\n",
        "\t# grab the frame from the camera, resize\n",
        "\t# it, and convert it to grayscale\n",
        "\t# channels)\n",
        "\tret, frame = camera.read()\n",
        "\tframe = imutils.resize(frame, width=640)\n",
        "\tgray = cv2.cvtColor(frame, cv2.COLOR_BGR2GRAY)\n",
        "\tprev_yawn_status = yawnStatus\n",
        "\t# detect faces in the grayscale frame\n",
        "\trects = detector(gray, 0)\n",
        "\n",
        "\t# loop over the face detections\n",
        "\tfor rect in rects:\n",
        "\t\t# determine the facial landmarks for the face region, then\n",
        "\t\t# convert the facial landmark (x, y)-coordinates to a NumPy\n",
        "\t\t# array\n",
        "\t\tshape = predictor(gray, rect)\n",
        "\t\tshape = face_utils.shape_to_np(shape)\n",
        "\n",
        "\t\t# extract the left and right eye coordinates, then use the\n",
        "\t\t# coordinates to compute the eye aspect ratio for both eyes\n",
        "\t\tleftEye = shape[lStart:lEnd]\n",
        "\t\trightEye = shape[rStart:rEnd]\n",
        "\t\tmouth = shape[mStart:mEnd]\n",
        "\t\tleftEAR = eye_aspect_ratio(leftEye)\n",
        "\t\trightEAR = eye_aspect_ratio(rightEye)\n",
        "\t\tmouEAR = mouth_aspect_ratio(mouth)\n",
        "\t\t# average the eye aspect ratio together for both eyes\n",
        "\t\tear = (leftEAR + rightEAR) / 2.0\n",
        "\n",
        "\t\t# compute the convex hull for the left and right eye, then\n",
        "\t\t# visualize each of the eyes\n",
        "\t\tleftEyeHull = cv2.convexHull(leftEye)\n",
        "\t\trightEyeHull = cv2.convexHull(rightEye)\n",
        "\t\tmouthHull = cv2.convexHull(mouth)\n",
        "\t\tcv2.drawContours(frame, [leftEyeHull], -1, (0, 255, 255), 1)\n",
        "\t\tcv2.drawContours(frame, [rightEyeHull], -1, (0, 255, 255), 1)\n",
        "\t\tcv2.drawContours(frame, [mouthHull], -1, (0, 255, 0), 1)\n",
        "\n",
        "\t\t# check to see if the eye aspect ratio is below the blink\n",
        "\t\t# threshold, and if so, increment the blink frame counter\n",
        "\t\tif ear < EYE_AR_THRESH:\n",
        "\t\t\tCOUNTER += 1\n",
        "\t\t\tcv2.putText(frame, \"Eyes Closed \", (10, 30),cv2.FONT_HERSHEY_SIMPLEX, 0.7, (0, 0, 255), 2)\n",
        "\n",
        "\t\t\t# if the eyes were closed for a sufficient number of\n",
        "\t\t\tif COUNTER >= EYE_AR_CONSEC_FRAMES:\n",
        "\t\t\t\t# draw an alarm on the frame\n",
        "\t\t\t\tcv2.putText(frame, \"DROWSINESS ALERT!\", (10, 50),\n",
        "\t\t\t\t\tcv2.FONT_HERSHEY_SIMPLEX, 0.7, (0, 0, 255), 2)\n",
        "\n",
        "\t\t# otherwise, the eye aspect ratio is not below the blink\n",
        "\t\t# threshold, so reset the counter and alarm\n",
        "\t\telse:\n",
        "\t\t\tCOUNTER = 0\n",
        "\t\t\tcv2.putText(frame, \"Eyes Open \", (10, 30),cv2.FONT_HERSHEY_SIMPLEX, 0.7, (0, 255, 0), 2)\n",
        "\n",
        "\t\tcv2.putText(frame, \"EAR: {:.2f}\".format(ear), (480, 30),\n",
        "\t\t\tcv2.FONT_HERSHEY_SIMPLEX, 0.7, (0, 0, 255), 2)\n",
        "\n",
        "\t\t# yawning detections\n",
        "\n",
        "\t\tif mouEAR > MOU_AR_THRESH:\n",
        "\t\t\tcv2.putText(frame, \"Yawning \", (10, 70),cv2.FONT_HERSHEY_SIMPLEX, 0.7, (0, 0, 255), 2)\n",
        "\t\t\tyawnStatus = True\n",
        "\t\t\toutput_text = \"Yawn Count: \" + str(yawns + 1)\n",
        "\t\t\tcv2.putText(frame, output_text, (10,100),cv2.FONT_HERSHEY_SIMPLEX, 0.7,(255,0,0),2)\n",
        "\t\telse:\n",
        "\t\t\tyawnStatus = False\n",
        "\n",
        "\t\tif prev_yawn_status == True and yawnStatus == False:\n",
        "\t\t\tyawns+=1\n",
        "\n",
        "\t\tcv2.putText(frame, \"MAR: {:.2f}\".format(mouEAR), (480, 60),\n",
        "\t\t\tcv2.FONT_HERSHEY_SIMPLEX, 0.7, (0, 0, 255), 2)\n",
        "\t\tcv2.putText(frame,\"mini project\",(370,470),cv2.FONT_HERSHEY_COMPLEX,0.6,(153,51,102),1)\n",
        "\t# show the frame\n",
        "\tcv2_imshow(frame)\n",
        "\tkey = cv2.waitKey(1) & 0xFF\n",
        "\n",
        "\t# if the `q` key was pressed, break from the loop\n",
        "\tif key == ord(\"q\"):\n",
        "\t\tbreak\n",
        "\n",
        "# do a bit of cleanup\n",
        "cv2.destroyAllWindows()\n",
        "camera.release()"
      ]
    }
  ],
  "metadata": {
    "colab": {
      "provenance": []
    },
    "kernelspec": {
      "display_name": "Python 3",
      "name": "python3"
    },
    "language_info": {
      "name": "python"
    }
  },
  "nbformat": 4,
  "nbformat_minor": 0
}
